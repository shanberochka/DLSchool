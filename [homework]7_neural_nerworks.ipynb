{
  "nbformat": 4,
  "nbformat_minor": 0,
  "metadata": {
    "hide_input": false,
    "kernelspec": {
      "display_name": "Python 3",
      "language": "python",
      "name": "python3"
    },
    "language_info": {
      "codemirror_mode": {
        "name": "ipython",
        "version": 3
      },
      "file_extension": ".py",
      "mimetype": "text/x-python",
      "name": "python",
      "nbconvert_exporter": "python",
      "pygments_lexer": "ipython3",
      "version": "3.6.9"
    },
    "varInspector": {
      "cols": {
        "lenName": 16,
        "lenType": 16,
        "lenVar": 40
      },
      "kernels_config": {
        "python": {
          "delete_cmd_postfix": "",
          "delete_cmd_prefix": "del ",
          "library": "var_list.py",
          "varRefreshCmd": "print(var_dic_list())"
        },
        "r": {
          "delete_cmd_postfix": ") ",
          "delete_cmd_prefix": "rm(",
          "library": "var_list.r",
          "varRefreshCmd": "cat(var_dic_list()) "
        }
      },
      "types_to_exclude": [
        "module",
        "function",
        "builtin_function_or_method",
        "instance",
        "_Feature"
      ],
      "window_display": false
    },
    "colab": {
      "name": "[homework]7_neural_nerworks.ipynb",
      "provenance": [],
      "collapsed_sections": [],
      "include_colab_link": true
    }
  },
  "cells": [
    {
      "cell_type": "markdown",
      "metadata": {
        "id": "view-in-github",
        "colab_type": "text"
      },
      "source": [
        "<a href=\"https://colab.research.google.com/github/shanberochka/DLSchool/blob/master/%5Bhomework%5D7_neural_nerworks.ipynb\" target=\"_parent\"><img src=\"https://colab.research.google.com/assets/colab-badge.svg\" alt=\"Open In Colab\"/></a>"
      ]
    },
    {
      "cell_type": "markdown",
      "metadata": {
        "id": "BsP8X727kQMe",
        "colab_type": "text"
      },
      "source": [
        "<p style=\"align: center;\"><img align=center src=\"https://s8.hostingkartinok.com/uploads/images/2018/08/308b49fcfbc619d629fe4604bceb67ac.jpg\"  width=400></p>\n",
        "\n",
        "<h3 style=\"text-align: center;\"><b>Физтех-Школа Прикладной математики и информатики (ФПМИ) МФТИ</b></h3>"
      ]
    },
    {
      "cell_type": "code",
      "metadata": {
        "id": "p-2rBvEkkQMj",
        "colab_type": "code",
        "colab": {}
      },
      "source": [
        "import torch\n",
        "from torch import nn\n",
        "from torch import functional as F\n",
        "import pandas as pd\n",
        "import numpy as np\n",
        "from sklearn.model_selection import train_test_split\n",
        "from matplotlib import pyplot as plt"
      ],
      "execution_count": 1,
      "outputs": []
    },
    {
      "cell_type": "markdown",
      "metadata": {
        "id": "PHc7UePMkQMp",
        "colab_type": "text"
      },
      "source": [
        "# Дисклеймер про CrossEntropyLoss и NLLLoss\n",
        "\n",
        "Обычно в PyTorch не нужно делать Softmax как последний слой модели. \n",
        "\n",
        "* Если Вы используете NLLLoss, то ему на вход надо давать лог вероятности, то есть выход слоя LogSoftmax. (Просто результат софтмакса, к которому применен логарифм)\n",
        "* Если Вы используете CrossEntropyLoss, то применение LogSoftmax уже включено внутрь лосса, поэтому ему на вход надо подавать просто выход обычного линейного слоя без активации. По сути CrossEntropyLoss = LogSoftmax + NLLLoss\n",
        "\n",
        "Зачем такие сложности, чтобы посчитать обычную кросс энтропию, которую мы использовали как лосс еще в логистической регрессии? Дело в том, что нам в любом случае придется взять логарифм от результатов софтмакса, а если делать это одной функцией, то можно сделать более устойчивую реализацию, которая даст меньшую вычислительную погрешность. \n",
        "\n",
        "Таким образом, если у вас в конце сети, решающей задачу классификации, стоит просто линейный слой без активации, то вам нужно использовать CrossEntropy. В этой домашке везде используется лосс CrossEntropy"
      ]
    },
    {
      "cell_type": "markdown",
      "metadata": {
        "id": "8rM9IY0YkQMq",
        "colab_type": "text"
      },
      "source": [
        "# 1. Создайте генератор батчей. \n",
        "\n",
        "В этот раз мы хотим сделать генератор, который будет максимально похож на то, что используется в реальном обучении. \n",
        "\n",
        "С помощью numpy вам нужно перемешать исходную выборку и выбирать из нее батчи размером batch_size, если размер выборки не делился на размер батча, то последний батч должен иметь размер меньше batch_size и состоять просто из всех оставшихся объектов. Возвращать нужно в формате (X_batch, y_batch)\n",
        "\n",
        "\n",
        "**Ответ на задание - код**"
      ]
    },
    {
      "cell_type": "code",
      "metadata": {
        "id": "ttf6PZuVkQMr",
        "colab_type": "code",
        "colab": {}
      },
      "source": [
        "def batch_generator(X, y, batch_size):\n",
        "    np.random.seed(42)\n",
        "    perm = np.random.permutation(len(X))\n",
        "    X_per = X[perm]\n",
        "    y_per = y[perm]\n",
        "    #?~ x, y = [lambda g[i] for i in perm, g from zip(X, y)]\n",
        "    num_batch = len(X)//batch_size\n",
        "    if num_batch == 0:\n",
        "        yield (X_per, y_per)\n",
        "    for i in range(num_batch):\n",
        "        if num_batch != 0:\n",
        "            yield (X_per[i*batch_size:(i+1)*batch_size], y_per[i*batch_size:(i+1)*batch_size])\n",
        "        if (len(X)%batch_size != 0) and (i == num_batch-1):\n",
        "            yield (X_per[num_batch*batch_size:], y_per[num_batch*batch_size:])"
      ],
      "execution_count": 2,
      "outputs": []
    },
    {
      "cell_type": "code",
      "metadata": {
        "id": "X6EsLdEgWawr",
        "colab_type": "code",
        "colab": {
          "base_uri": "https://localhost:8080/",
          "height": 34
        },
        "outputId": "5b88b28e-7f0e-45d0-b413-65b903916323"
      },
      "source": [
        "from google.colab import drive\n",
        "drive.mount('/content/drive')"
      ],
      "execution_count": 31,
      "outputs": [
        {
          "output_type": "stream",
          "text": [
            "Drive already mounted at /content/drive; to attempt to forcibly remount, call drive.mount(\"/content/drive\", force_remount=True).\n"
          ],
          "name": "stdout"
        }
      ]
    },
    {
      "cell_type": "markdown",
      "metadata": {
        "id": "yJ9_3VfrkQMv",
        "colab_type": "text"
      },
      "source": [
        "# 2. Обучите модель для классификации звезд\n",
        "\n",
        "Загрузите датасет из файла sky_data.csv, разделите его на train/test и обучите на нем нейронную сеть (архитектура ниже). Обучайте на батчах с помощью оптимизатора Adam со lr=1e-2. \n",
        "\n",
        "Архитектура:\n",
        "\n",
        "1. Dense Layer с relu активацией и 50 нейронами\n",
        "2. Dropout with 50% keep rate\n",
        "3. BatchNorm\n",
        "4. Dense Layer с relu активацией и 100 нейронами\n",
        "5. Dropout with 50% keep rate\n",
        "6. BatchNorm\n",
        "7. Выходной Dense слой c количеством нейронов, равному количеству классов\n",
        "\n",
        "Лосс - CrossEntropy.\n",
        "\n",
        "**В качестве ответа введите число - среднее предсказание 0 класса на тестовом датасете (т.е. выход модели для 0 класса, где среднее берется по предсказаниям для всех строчек из теста)**"
      ]
    },
    {
      "cell_type": "markdown",
      "metadata": {
        "id": "qTd7VFMskQMw",
        "colab_type": "text"
      },
      "source": [
        "В датасете классы - строчки, поэтому чтобы ответ совпал с ответом на степике надо каким-то детерминированным образом его закаодировать. Для этого в строчке ниже объявлен dict, с помощью него и функции map превратите столбец с таргетом в целое число."
      ]
    },
    {
      "cell_type": "markdown",
      "metadata": {
        "id": "MTMs6bU6kQMx",
        "colab_type": "text"
      },
      "source": [
        "Загрузка данных"
      ]
    },
    {
      "cell_type": "code",
      "metadata": {
        "id": "oVytEff2Wrbd",
        "colab_type": "code",
        "colab": {
          "base_uri": "https://localhost:8080/",
          "height": 34
        },
        "outputId": "0936bd5f-f5a1-440d-94ca-6c33c2e00242"
      },
      "source": [
        "from google.colab import drive\n",
        "drive.mount('/content/drive')"
      ],
      "execution_count": 32,
      "outputs": [
        {
          "output_type": "stream",
          "text": [
            "Drive already mounted at /content/drive; to attempt to forcibly remount, call drive.mount(\"/content/drive\", force_remount=True).\n"
          ],
          "name": "stdout"
        }
      ]
    },
    {
      "cell_type": "code",
      "metadata": {
        "id": "r-j6LdzAW0b8",
        "colab_type": "code",
        "colab": {
          "base_uri": "https://localhost:8080/",
          "height": 34
        },
        "outputId": "a235eff9-4cbd-4e8f-f2bc-0010b606b141"
      },
      "source": [
        "!ls /content/drive/My\\ Drive/Colab\\ Notebooks/Data/"
      ],
      "execution_count": 34,
      "outputs": [
        {
          "output_type": "stream",
          "text": [
            "sky_data.csv\n"
          ],
          "name": "stdout"
        }
      ]
    },
    {
      "cell_type": "code",
      "metadata": {
        "id": "Ci8mdz99kQMy",
        "colab_type": "code",
        "colab": {}
      },
      "source": [
        "feature_columns = ['ra', 'dec', 'u', 'g', 'r', 'i', 'z', 'run', 'camcol', 'field']\n",
        "target_column = 'class'\n",
        "\n",
        "target_mapping = {\n",
        "    'GALAXY': 0,\n",
        "    'STAR': 1,\n",
        "    'QSO': 2\n",
        "}"
      ],
      "execution_count": 13,
      "outputs": []
    },
    {
      "cell_type": "code",
      "metadata": {
        "id": "QRcIYVvUkQM2",
        "colab_type": "code",
        "colab": {
          "base_uri": "https://localhost:8080/",
          "height": 85
        },
        "outputId": "fc7882ca-5a93-4af4-b2f6-47d8d27c941d"
      },
      "source": [
        "data = pd.read_csv('/content/drive/My Drive/Colab Notebooks/Data/sky_data.csv')\n",
        "data['class'].value_counts()"
      ],
      "execution_count": 35,
      "outputs": [
        {
          "output_type": "execute_result",
          "data": {
            "text/plain": [
              "GALAXY    4998\n",
              "STAR      4152\n",
              "QSO        850\n",
              "Name: class, dtype: int64"
            ]
          },
          "metadata": {
            "tags": []
          },
          "execution_count": 35
        }
      ]
    },
    {
      "cell_type": "code",
      "metadata": {
        "id": "EVwCwA6RkQM5",
        "colab_type": "code",
        "colab": {}
      },
      "source": [
        "# Extract Features\n",
        "X = data[feature_columns]\n",
        "# Extract target\n",
        "y = data[target_column]"
      ],
      "execution_count": 64,
      "outputs": []
    },
    {
      "cell_type": "code",
      "metadata": {
        "id": "Qk_veoR0cuE1",
        "colab_type": "code",
        "colab": {
          "base_uri": "https://localhost:8080/",
          "height": 204
        },
        "outputId": "c6d6ce7b-72fa-46f5-c6b5-fe6666508fae"
      },
      "source": [
        "X.head()"
      ],
      "execution_count": 52,
      "outputs": [
        {
          "output_type": "execute_result",
          "data": {
            "text/html": [
              "<div>\n",
              "<style scoped>\n",
              "    .dataframe tbody tr th:only-of-type {\n",
              "        vertical-align: middle;\n",
              "    }\n",
              "\n",
              "    .dataframe tbody tr th {\n",
              "        vertical-align: top;\n",
              "    }\n",
              "\n",
              "    .dataframe thead th {\n",
              "        text-align: right;\n",
              "    }\n",
              "</style>\n",
              "<table border=\"1\" class=\"dataframe\">\n",
              "  <thead>\n",
              "    <tr style=\"text-align: right;\">\n",
              "      <th></th>\n",
              "      <th>ra</th>\n",
              "      <th>dec</th>\n",
              "      <th>u</th>\n",
              "      <th>g</th>\n",
              "      <th>r</th>\n",
              "      <th>i</th>\n",
              "      <th>z</th>\n",
              "      <th>run</th>\n",
              "      <th>camcol</th>\n",
              "      <th>field</th>\n",
              "    </tr>\n",
              "  </thead>\n",
              "  <tbody>\n",
              "    <tr>\n",
              "      <th>0</th>\n",
              "      <td>183.531326</td>\n",
              "      <td>0.089693</td>\n",
              "      <td>19.47406</td>\n",
              "      <td>17.04240</td>\n",
              "      <td>15.94699</td>\n",
              "      <td>15.50342</td>\n",
              "      <td>15.22531</td>\n",
              "      <td>752</td>\n",
              "      <td>4</td>\n",
              "      <td>267</td>\n",
              "    </tr>\n",
              "    <tr>\n",
              "      <th>1</th>\n",
              "      <td>183.598371</td>\n",
              "      <td>0.135285</td>\n",
              "      <td>18.66280</td>\n",
              "      <td>17.21449</td>\n",
              "      <td>16.67637</td>\n",
              "      <td>16.48922</td>\n",
              "      <td>16.39150</td>\n",
              "      <td>752</td>\n",
              "      <td>4</td>\n",
              "      <td>267</td>\n",
              "    </tr>\n",
              "    <tr>\n",
              "      <th>2</th>\n",
              "      <td>183.680207</td>\n",
              "      <td>0.126185</td>\n",
              "      <td>19.38298</td>\n",
              "      <td>18.19169</td>\n",
              "      <td>17.47428</td>\n",
              "      <td>17.08732</td>\n",
              "      <td>16.80125</td>\n",
              "      <td>752</td>\n",
              "      <td>4</td>\n",
              "      <td>268</td>\n",
              "    </tr>\n",
              "    <tr>\n",
              "      <th>3</th>\n",
              "      <td>183.870529</td>\n",
              "      <td>0.049911</td>\n",
              "      <td>17.76536</td>\n",
              "      <td>16.60272</td>\n",
              "      <td>16.16116</td>\n",
              "      <td>15.98233</td>\n",
              "      <td>15.90438</td>\n",
              "      <td>752</td>\n",
              "      <td>4</td>\n",
              "      <td>269</td>\n",
              "    </tr>\n",
              "    <tr>\n",
              "      <th>4</th>\n",
              "      <td>183.883288</td>\n",
              "      <td>0.102557</td>\n",
              "      <td>17.55025</td>\n",
              "      <td>16.26342</td>\n",
              "      <td>16.43869</td>\n",
              "      <td>16.55492</td>\n",
              "      <td>16.61326</td>\n",
              "      <td>752</td>\n",
              "      <td>4</td>\n",
              "      <td>269</td>\n",
              "    </tr>\n",
              "  </tbody>\n",
              "</table>\n",
              "</div>"
            ],
            "text/plain": [
              "           ra       dec         u         g  ...         z  run  camcol  field\n",
              "0  183.531326  0.089693  19.47406  17.04240  ...  15.22531  752       4    267\n",
              "1  183.598371  0.135285  18.66280  17.21449  ...  16.39150  752       4    267\n",
              "2  183.680207  0.126185  19.38298  18.19169  ...  16.80125  752       4    268\n",
              "3  183.870529  0.049911  17.76536  16.60272  ...  15.90438  752       4    269\n",
              "4  183.883288  0.102557  17.55025  16.26342  ...  16.61326  752       4    269\n",
              "\n",
              "[5 rows x 10 columns]"
            ]
          },
          "metadata": {
            "tags": []
          },
          "execution_count": 52
        }
      ]
    },
    {
      "cell_type": "markdown",
      "metadata": {
        "id": "A3OkZT7HkQM7",
        "colab_type": "text"
      },
      "source": [
        "Нормализация фичей"
      ]
    },
    {
      "cell_type": "code",
      "metadata": {
        "id": "ynmXS7dMkQM8",
        "colab_type": "code",
        "colab": {}
      },
      "source": [
        "# Просто вычтите среднее и поделитe на стандартное отклонение (с помощью пандас)\n",
        "X = (X - X.mean())/ X.std()"
      ],
      "execution_count": 65,
      "outputs": []
    },
    {
      "cell_type": "code",
      "metadata": {
        "id": "i8VBreAKd_5R",
        "colab_type": "code",
        "colab": {
          "base_uri": "https://localhost:8080/",
          "height": 34
        },
        "outputId": "c37eb92d-bb55-4534-ddb7-01d2c6d42bba"
      },
      "source": [
        "type(X)"
      ],
      "execution_count": 49,
      "outputs": [
        {
          "output_type": "execute_result",
          "data": {
            "text/plain": [
              "pandas.core.frame.DataFrame"
            ]
          },
          "metadata": {
            "tags": []
          },
          "execution_count": 49
        }
      ]
    },
    {
      "cell_type": "code",
      "metadata": {
        "id": "cKSjV75ReDCp",
        "colab_type": "code",
        "colab": {
          "base_uri": "https://localhost:8080/",
          "height": 34
        },
        "outputId": "8e8e5037-26eb-4076-e2a3-2b377a207749"
      },
      "source": [
        "type(y)"
      ],
      "execution_count": 54,
      "outputs": [
        {
          "output_type": "execute_result",
          "data": {
            "text/plain": [
              "pandas.core.series.Series"
            ]
          },
          "metadata": {
            "tags": []
          },
          "execution_count": 54
        }
      ]
    },
    {
      "cell_type": "code",
      "metadata": {
        "id": "_KbUIpj-fh-Q",
        "colab_type": "code",
        "colab": {
          "base_uri": "https://localhost:8080/",
          "height": 119
        },
        "outputId": "e1957315-2151-412d-b8d5-ab22d7ab2511"
      },
      "source": [
        "y.head()"
      ],
      "execution_count": 58,
      "outputs": [
        {
          "output_type": "execute_result",
          "data": {
            "text/plain": [
              "0      STAR\n",
              "1      STAR\n",
              "2    GALAXY\n",
              "3      STAR\n",
              "4      STAR\n",
              "Name: class, dtype: object"
            ]
          },
          "metadata": {
            "tags": []
          },
          "execution_count": 58
        }
      ]
    },
    {
      "cell_type": "code",
      "metadata": {
        "id": "_-uRTu5rgg8A",
        "colab_type": "code",
        "colab": {}
      },
      "source": [
        "# encode target with target_mapping\n",
        "y =y.map(target_mapping)"
      ],
      "execution_count": 66,
      "outputs": []
    },
    {
      "cell_type": "markdown",
      "metadata": {
        "id": "VTcR3q0SkQNj",
        "colab_type": "text"
      },
      "source": [
        "Обучение"
      ]
    },
    {
      "cell_type": "code",
      "metadata": {
        "id": "m5AFbCY4kQNk",
        "colab_type": "code",
        "colab": {}
      },
      "source": [
        "# Split train/test\n",
        "X_train, X_test, y_train, y_test = train_test_split(X, y, random_state=42)\n",
        "# Превратим данные в тензоры, чтобы потом было удобнее\n",
        "X_train = torch.FloatTensor(X_train.values)\n",
        "y_train = torch.LongTensor(y_train.values)\n",
        "X_test = torch.FloatTensor(X_test.values)\n",
        "y_test = torch.LongTensor(y_test.values)"
      ],
      "execution_count": 67,
      "outputs": []
    },
    {
      "cell_type": "markdown",
      "metadata": {
        "id": "ZDCt0vtlkQNo",
        "colab_type": "text"
      },
      "source": [
        "Хорошо, данные мы подготовили, теперь надо объявить модель"
      ]
    },
    {
      "cell_type": "code",
      "metadata": {
        "id": "fI6ZqCaCkQNp",
        "colab_type": "code",
        "colab": {}
      },
      "source": [
        "torch.manual_seed(42) \n",
        "np.random.seed(42)\n",
        "D_in, H_1, H_2, D_out = X.shape[1], 50, 100, 3\n",
        "\n",
        "\n",
        "model = nn.Sequential(\n",
        "    nn.Linear(D_in, H_1),\n",
        "    nn.BatchNorm1d(H_1),\n",
        "    nn.Dropout(p=0.5),\n",
        "    nn.ReLU(),\n",
        "    \n",
        "    nn.Linear(H_1, H_2),\n",
        "    nn.BatchNorm1d(H_2),\n",
        "    nn.Dropout(p=0.5),\n",
        "    nn.ReLU(),\n",
        "\n",
        "    nn.Linear(H_2, D_out)\n",
        "    #nn.Softmax()\n",
        "    \n",
        ")\n",
        "    \n",
        "loss_fn = nn.CrossEntropyLoss()\n",
        "optimizer = torch.optim.Adam(model.parameters(), lr=1e-2)"
      ],
      "execution_count": 175,
      "outputs": []
    },
    {
      "cell_type": "markdown",
      "metadata": {
        "id": "GkUkeHfokQNs",
        "colab_type": "text"
      },
      "source": [
        "Теперь обучим модель"
      ]
    },
    {
      "cell_type": "code",
      "metadata": {
        "id": "41jYcT6AkQNt",
        "colab_type": "code",
        "colab": {}
      },
      "source": [
        "def train(num_epoch):\n",
        "    train_losses = []\n",
        "    test_losses = []\n",
        "    for i in range(num_epoch):\n",
        "        for X_batch, y_batch in batch_generator(X_train, y_train, 500):\n",
        "            # На лекции мы рассказывали, что дропаут работает по-разному во время обучения и реального предсказания\n",
        "            # Чтобы это учесть нам нужно включать и выключать режим обучения, делается это командой ниже\n",
        "            model.train(True)\n",
        "            \n",
        "            # Посчитаем предсказание и лосс\n",
        "            train_preds = model(X_batch)\n",
        "            #m = nn.Softmax()\n",
        "            #train_preds = m(train_preds)\n",
        "            train_loss = loss_fn(train_preds, y_batch)\n",
        "            \n",
        "            # зануляем градиент\n",
        "            optimizer.zero_grad()\n",
        "\n",
        "            # backward\n",
        "            train_loss.backward()\n",
        "\n",
        "            # ОБНОВЛЯЕМ веса \n",
        "            optimizer.step()\n",
        "            \n",
        "            # Запишем число (не тензор) в наши батчевые лоссы\n",
        "            train_losses.append(train_loss.item())\n",
        "            \n",
        "            # Теперь посчитаем лосс на тесте\n",
        "            model.train(False)\n",
        "            test_preds = model(X_test)\n",
        "            #m = nn.Softmax()\n",
        "            #test_preds = m(test_preds)\n",
        "            test_loss = loss_fn(test_preds, y_test)\n",
        "\n",
        "            # Сюда опять же надо положить именно число равное лоссу на всем тест датасете\n",
        "            test_losses.append(test_loss.item())\n",
        "            \n",
        "    return train_losses, test_losses"
      ],
      "execution_count": 180,
      "outputs": []
    },
    {
      "cell_type": "code",
      "metadata": {
        "scrolled": false,
        "id": "cDyg5zMckQOX",
        "colab_type": "code",
        "colab": {
          "base_uri": "https://localhost:8080/",
          "height": 282
        },
        "outputId": "b409007d-da4f-4d87-84e3-40b1e53d1cb2"
      },
      "source": [
        "train_losses, test_losses = train(20)\n",
        "plt.scatter(range(len(train_losses)), train_losses)\n",
        "plt.scatter(range(len(test_losses)), test_losses)"
      ],
      "execution_count": 181,
      "outputs": [
        {
          "output_type": "execute_result",
          "data": {
            "text/plain": [
              "<matplotlib.collections.PathCollection at 0x7fac381e95c0>"
            ]
          },
          "metadata": {
            "tags": []
          },
          "execution_count": 181
        },
        {
          "output_type": "display_data",
          "data": {
            "image/png": "[encoded data removed]",
            "text/plain": [
              "<Figure size 432x288 with 1 Axes>"
            ]
          },
          "metadata": {
            "tags": [],
            "needs_background": "light"
          }
        }
      ]
    },
    {
      "cell_type": "code",
      "metadata": {
        "id": "RxhUaV1qvt70",
        "colab_type": "code",
        "colab": {
          "base_uri": "https://localhost:8080/",
          "height": 282
        },
        "outputId": "efe1176c-34bf-4df5-8e74-9a6a6353191a"
      },
      "source": [
        "plt.plot(range(len(train_losses)), train_losses)\n",
        "plt.plot(range(len(test_losses)), test_losses)"
      ],
      "execution_count": 170,
      "outputs": [
        {
          "output_type": "execute_result",
          "data": {
            "text/plain": [
              "[<matplotlib.lines.Line2D at 0x7fac3b1322e8>]"
            ]
          },
          "metadata": {
            "tags": []
          },
          "execution_count": 170
        },
        {
          "output_type": "display_data",
          "data": {
            "image/png": "[encoded data removed]",
            "text/plain": [
              "<Figure size 432x288 with 1 Axes>"
            ]
          },
          "metadata": {
            "tags": [],
            "needs_background": "light"
          }
        }
      ]
    },
    {
      "cell_type": "code",
      "metadata": {
        "id": "4nomCVu0kQOa",
        "colab_type": "code",
        "colab": {
          "base_uri": "https://localhost:8080/",
          "height": 34
        },
        "outputId": "0ed96d1c-7cf2-47a6-c7d8-4750fa9003fc"
      },
      "source": [
        "# Ответ на задачу\n",
        "model.train(False)\n",
        "model(X_test)[:,0].mean().item()\n",
        "\n",
        "\n",
        "\n",
        "#from operator import eq\n",
        "#indeses = torch.max(test_preds, dim=1).indices.tolist() \n",
        "#zeros = [0]*test_preds.shape[0]\n",
        "\n",
        "#count = list(map(eq, indeses, zeros))\n",
        "#sum(count)/len(count)"
      ],
      "execution_count": 182,
      "outputs": [
        {
          "output_type": "execute_result",
          "data": {
            "text/plain": [
              "1.8578615188598633"
            ]
          },
          "metadata": {
            "tags": []
          },
          "execution_count": 182
        }
      ]
    },
    {
      "cell_type": "markdown",
      "metadata": {
        "id": "IB1XswA2kQOd",
        "colab_type": "text"
      },
      "source": [
        "# Задание 3\n",
        "\n",
        "Только что вы обучили полносвязную нейронку, сейчас попробуйте исправить ошибки в созданных ниже нейронках и потом обучить их с помощью той же функции train. Будьте осторожнее и убедитесь, что перед запуском train вы вновь переопределили все необходимые внешние переменные (train обращается к глобальным переменным, в целом так делать не стоит, но сейчас это было оправдано, так как иначе нам пришлось бы передавать порядка 7-8 аргументов).\n",
        "\n",
        "Чтобы у вас получилась такая же архитектура, как у нас, и ответы совпали, давайте определим некоторые правила, как исправлять ошибки:\n",
        "\n",
        "1. Если вы видите лишний не линейный слой, который стоит не на своем месте, просто удалите его. (не нужно добавлять новые слои, чтобы сдлеать постановку изначального слоя разумной. Удалять надо самый последний слой, который все портит. Для линейных слоев надо что-то исправить, а не удалить его)\n",
        "2. Если у слоя нет активации, то добавьте ReLU или другую подходящую активацию\n",
        "3. Если что-то не так с learning_rate, то поставьте 1e-2\n",
        "4. Если что-то не так с параметрами, считайте первый параметр, который появляется, как верный (т.е. далее в сети должен использоваться он).\n",
        "5. Ошибки могут быть и в полносвязных слоях. \n",
        "6. Любые другие проблемы решаются более менее однозначно, если же у вас есть серьезные сомнения, то напишите в беседу в телеграме и пинганите меня @runfme\n"
      ]
    },
    {
      "cell_type": "markdown",
      "metadata": {
        "id": "Un7PyM39kQOe",
        "colab_type": "text"
      },
      "source": [
        "Задача все та же - классификация небесных объектов на том же датасете. После исправления сети вам нужно обучить ее.\n",
        "\n",
        "**Ответ на задачу - средний лосс на тестовом датасете**"
      ]
    },
    {
      "cell_type": "code",
      "metadata": {
        "id": "3M9P67WekQOe",
        "colab_type": "code",
        "colab": {}
      },
      "source": [
        "torch.manual_seed(42)   \n",
        "np.random.seed(42)\n",
        "# WRONG ARCH\n",
        "model = nn.Sequential(\n",
        "    nn.Dropout(p=0.5),\n",
        "    nn.Linear(6, 50),\n",
        "    nn.ReLU(),\n",
        "    nn.Dropout(p=0.5),\n",
        "    nn.Linear(100, 200),\n",
        "    nn.Softmax(),\n",
        "    nn.Linear(200, 200),\n",
        "    nn.ReLU(),\n",
        "    nn.Dropout(p=0.5),\n",
        "    nn.Linear(200, 3),\n",
        "    nn.Dropout(p=0.5)\n",
        ")\n",
        "\n",
        "\n",
        "loss_fn = nn.CrossEntropyLoss()\n",
        "optimizer = torch.optim.Adam(model.parameters[:-2], lr=1e-100)"
      ],
      "execution_count": null,
      "outputs": []
    },
    {
      "cell_type": "code",
      "metadata": {
        "id": "Nz1eXj-M-Xdb",
        "colab_type": "code",
        "colab": {}
      },
      "source": [
        "# Split train/test\n",
        "X_train, X_test, y_train, y_test = train_test_split(X, y, random_state=42)\n",
        "# Превратим данные в тензоры, чтобы потом было удобнее\n",
        "X_train = torch.FloatTensor(X_train.values)\n",
        "y_train = torch.LongTensor(y_train.values)\n",
        "X_test = torch.FloatTensor(X_test.values)\n",
        "y_test = torch.LongTensor(y_test.values)"
      ],
      "execution_count": 191,
      "outputs": []
    },
    {
      "cell_type": "code",
      "metadata": {
        "id": "T0HEx6vbkQOi",
        "colab_type": "code",
        "colab": {}
      },
      "source": [
        "# RIGHT ARCH\n",
        "torch.manual_seed(42)   \n",
        "np.random.seed(42)\n",
        "model = nn.Sequential(\n",
        "    #nn.Dropout(p=0.5),\n",
        "    nn.Linear(10, 50),\n",
        "    nn.ReLU(),\n",
        "    nn.Dropout(p=0.5),\n",
        "    nn.Linear(50, 200),\n",
        "    nn.ReLU(),\n",
        "    #nn.Dropout(p=0.5),\n",
        "    nn.Linear(200, 200),\n",
        "    nn.ReLU(),\n",
        "    nn.Dropout(p=0.5),\n",
        "    nn.Linear(200, 3)\n",
        "    #nn.Softmax()\n",
        "\n",
        ")\n",
        "\n",
        "\n",
        "loss_fn = nn.CrossEntropyLoss()\n",
        "optimizer = torch.optim.Adam(model.parameters(), lr=1e-2)\n"
      ],
      "execution_count": 201,
      "outputs": []
    },
    {
      "cell_type": "code",
      "metadata": {
        "scrolled": true,
        "id": "lKT-usCrkQOl",
        "colab_type": "code",
        "colab": {
          "base_uri": "https://localhost:8080/",
          "height": 282
        },
        "outputId": "696e53db-cab0-46bc-bc28-12cf046a8182"
      },
      "source": [
        "train_losses, test_losses = train(20)\n",
        "plt.scatter(range(len(train_losses)), train_losses)\n",
        "plt.scatter(range(len(test_losses)), test_losses)"
      ],
      "execution_count": 202,
      "outputs": [
        {
          "output_type": "execute_result",
          "data": {
            "text/plain": [
              "<matplotlib.collections.PathCollection at 0x7fac3806b588>"
            ]
          },
          "metadata": {
            "tags": []
          },
          "execution_count": 202
        },
        {
          "output_type": "display_data",
          "data": {
            "image/png": "[encoded data removed]",
            "text/plain": [
              "<Figure size 432x288 with 1 Axes>"
            ]
          },
          "metadata": {
            "tags": [],
            "needs_background": "light"
          }
        }
      ]
    },
    {
      "cell_type": "code",
      "metadata": {
        "id": "7SZv9yARkQOo",
        "colab_type": "code",
        "colab": {
          "base_uri": "https://localhost:8080/",
          "height": 34
        },
        "outputId": "109f3312-93ab-4419-f071-4ac778622a70"
      },
      "source": [
        "# Ответ на задачу \n",
        "np.mean(test_losses)"
      ],
      "execution_count": 203,
      "outputs": [
        {
          "output_type": "execute_result",
          "data": {
            "text/plain": [
              "0.2957411167025566"
            ]
          },
          "metadata": {
            "tags": []
          },
          "execution_count": 203
        }
      ]
    },
    {
      "cell_type": "markdown",
      "metadata": {
        "id": "bUGWpT3MkQOr",
        "colab_type": "text"
      },
      "source": [
        "# Задание 4\n",
        "\n",
        "А теперь просто задание на интерес, давайте посмотрим, когда добавление перестает улучшать метрики. Увеличивайте блоков из слоев в сети, пока минимальный лосс на тестовом датасете за все время обучения не перестанет уменьшаться (20 эпох). Ответ - целое число, количество блоков, такое, что при добавлении еще одного блока минимальный лосс за время обучения увеличиться (строго).\n",
        "\n",
        "А еще стоит помнить, что нельзя переиспользовать слои с предыдущих обучений, потому что они уже будут с подобранными весами.\n",
        "\n",
        "**Чтобы получить воспроизводимость и идентичный нашему ответ, надо объявлять все слои в порядке, в котором они применяются внутри модели. Это важно, если вы будете собирать свою модель из частей. Перед объявлением этих слоев по порядку напишите**\n",
        "> torch.manual_seed(42)   \n",
        "> np.random.seed(42)\n",
        "\n",
        "**При чем каждый раз, когда вы заново создаете модель, перезадавайте random seeds**\n",
        "\n",
        "**Опитимизатор - Adam(lr=1e-2)**\n"
      ]
    },
    {
      "cell_type": "code",
      "metadata": {
        "id": "JZzgn9y8kQOr",
        "colab_type": "code",
        "colab": {}
      },
      "source": [
        "# МОДЕЛЬ ДЛЯ ПРИМЕРА, НА САМОМ ДЕЛЕ ВАМ ПРИДЕТСЯ СОЗДАВАТЬ НОВУЮ МОДЕЛЬ ДЛЯ КАЖДОГО КОЛИЧЕСТВА БЛОКОВ\n",
        "model = nn.Sequential(\n",
        "    nn.Linear(len(feature_columns), 100),\n",
        "    nn.ReLU(),\n",
        "    nn.Dropout(p=0.5),\n",
        "    # Начало блока, который надо вставалять много раз\n",
        "    nn.Linear(100, 100),\n",
        "    nn.ReLU(),\n",
        "    nn.BatchNorm1d(100),\n",
        "    # Конец блока\n",
        "    nn.Linear(100, 3)\n",
        "    # Блока Softmax нет, поэтому нам нужно использовать лосс - CrossEntropyLoss\n",
        ")"
      ],
      "execution_count": null,
      "outputs": []
    },
    {
      "cell_type": "code",
      "metadata": {
        "scrolled": false,
        "id": "yYUngAvSkQOw",
        "colab_type": "code",
        "colab": {}
      },
      "source": [
        "# Вы уже многое умеете, поэтому теперь код надо написать самому\n",
        "# Идея - разделить модель на части.\n",
        "# Вначале создать head часть как Sequential модель, потом в цикле создать Sequential модели, которые представляют\n",
        "# из себя блоки, потом создать tail часть тоже как Sequential, а потом объединить их в одну Sequential модель \n",
        "# вот таким кодом: nn.Sequential(header, *blocks, footer)\n",
        "# Важная идея тут состоит в том, что модели могут быть частями других моделей)\n",
        "<YOUR CODE>"
      ],
      "execution_count": null,
      "outputs": []
    },
    {
      "cell_type": "code",
      "metadata": {
        "id": "gUcAT7qlPNQU",
        "colab_type": "code",
        "colab": {}
      },
      "source": [
        "# Split train/test\n",
        "X_train, X_test, y_train, y_test = train_test_split(X, y, random_state=42)\n",
        "# Превратим данные в тензоры, чтобы потом было удобнее\n",
        "X_train = torch.FloatTensor(X_train.values)\n",
        "y_train = torch.LongTensor(y_train.values)\n",
        "X_test = torch.FloatTensor(X_test.values)\n",
        "y_test = torch.LongTensor(y_test.values)"
      ],
      "execution_count": 211,
      "outputs": []
    },
    {
      "cell_type": "code",
      "metadata": {
        "id": "ZkHdcxJskQO1",
        "colab_type": "code",
        "colab": {}
      },
      "source": [
        "class BlockNet(nn.Module):\n",
        "  def __init__(self, block_count, ):\n",
        "    super(BlockNet, self).__init__()\n",
        "    head = nn.Sequential(\n",
        "        nn.Linear(len(feature_columns), 100),\n",
        "        nn.ReLU(),\n",
        "        nn.Dropout(p=0.5)\n",
        "    )\n",
        "    blocks = [\n",
        "              nn.Sequential(\n",
        "                  nn.Linear(100, 100),\n",
        "                  nn.ReLU(),\n",
        "                  nn.BatchNorm1d(100)\n",
        "              )\n",
        "              for _ in range(block_count)\n",
        "              ]\n",
        "    tail = nn.Linear(100, 3)\n",
        "\n",
        "    self.model = nn.Sequential(\n",
        "        head,\n",
        "        *blocks,\n",
        "        tail\n",
        "    )\n",
        "  def forward(self, x):\n",
        "      return self.model(x)"
      ],
      "execution_count": 220,
      "outputs": []
    },
    {
      "cell_type": "code",
      "metadata": {
        "id": "ZBy7CcXZkQO3",
        "colab_type": "code",
        "colab": {}
      },
      "source": [
        "max_block_count = 10\n",
        "min_test_losses = []\n",
        "\n",
        "for block_count in range(max_block_count+1):\n",
        "  torch.manual_seed(42)\n",
        "  np.random.seed(42)\n",
        "\n",
        "  model = BlockNet(block_count=block_count)\n",
        "  loss_fn = nn.CrossEntropyLoss()\n",
        "  optimizer = torch.optim.Adam(model.parameters(), lr=1e-2)\n",
        "\n",
        "  train_losses, test_losses = train(20)\n",
        "  min_test_losses.append(np.min(test_losses))"
      ],
      "execution_count": 221,
      "outputs": []
    },
    {
      "cell_type": "code",
      "metadata": {
        "id": "pQkpzP3NOcxb",
        "colab_type": "code",
        "colab": {
          "base_uri": "https://localhost:8080/",
          "height": 282
        },
        "outputId": "0bfbf460-7a96-4450-a191-3118bdade27b"
      },
      "source": [
        "plt.plot(range(max_block_count+1), min_test_losses)"
      ],
      "execution_count": 222,
      "outputs": [
        {
          "output_type": "execute_result",
          "data": {
            "text/plain": [
              "[<matplotlib.lines.Line2D at 0x7fac37e33c18>]"
            ]
          },
          "metadata": {
            "tags": []
          },
          "execution_count": 222
        },
        {
          "output_type": "display_data",
          "data": {
            "image/png": "[encoded data removed]",
            "text/plain": [
              "<Figure size 432x288 with 1 Axes>"
            ]
          },
          "metadata": {
            "tags": [],
            "needs_background": "light"
          }
        }
      ]
    }
  ]
}