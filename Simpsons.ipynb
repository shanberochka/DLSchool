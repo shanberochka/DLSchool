{
  "nbformat": 4,
  "nbformat_minor": 0,
  "metadata": {
    "kernelspec": {
      "display_name": "Python 3",
      "language": "python",
      "name": "python3"
    },
    "language_info": {
      "codemirror_mode": {
        "name": "ipython",
        "version": 3
      },
      "file_extension": ".py",
      "mimetype": "text/x-python",
      "name": "python",
      "nbconvert_exporter": "python",
      "pygments_lexer": "ipython3",
      "version": "3.6.6"
    },
    "colab": {
      "name": "Simpsons",
      "provenance": []
    }
  },
  "cells": [
    {
      "cell_type": "markdown",
      "metadata": {
        "id": "3nfBl0UW_07i"
      },
      "source": [
        "Импортируем все необходимые нам библотеки."
      ]
    },
    {
      "cell_type": "code",
      "metadata": {
        "_cell_guid": "b1076dfc-b9ad-4769-8c92-a6c4dae69d19",
        "_uuid": "8f2839f25d086af736a60e9eeb907d3b93b6e0e5",
        "id": "0n4asy4U_07i"
      },
      "source": [
        "import pickle\n",
        "import numpy as np\n",
        "import pandas as pd\n",
        "import torch\n",
        "import random\n",
        "from skimage import io\n",
        "\n",
        "from tqdm import tqdm, tqdm_notebook\n",
        "from PIL import Image\n",
        "from pathlib import Path\n",
        "\n",
        "from torchvision import transforms\n",
        "from torchvision import models\n",
        "from multiprocessing.pool import ThreadPool\n",
        "from sklearn.preprocessing import LabelEncoder\n",
        "from torch.utils.data import Dataset, DataLoader\n",
        "import torch.nn as nn\n",
        "\n",
        "from matplotlib import colors, pyplot as plt\n",
        "%matplotlib inline\n",
        "\n",
        "# ignore warnings\n",
        "import warnings\n",
        "warnings.filterwarnings(action='ignore', category=DeprecationWarning)"
      ],
      "execution_count": null,
      "outputs": []
    },
    {
      "cell_type": "markdown",
      "metadata": {
        "id": "bdEp2js6_07j"
      },
      "source": [
        "Фиксируем все случайные последовательнсоти"
      ]
    },
    {
      "cell_type": "code",
      "metadata": {
        "id": "26NsfaaC_07j"
      },
      "source": [
        "random.seed(0)\n",
        "np.random.seed(0)\n",
        "torch.manual_seed(0)\n",
        "torch.cuda.manual_seed(0)\n",
        "torch.backends.cudnn.deterministic = True"
      ],
      "execution_count": null,
      "outputs": []
    },
    {
      "cell_type": "markdown",
      "metadata": {
        "id": "BYz7CyDK_07j"
      },
      "source": [
        "Определяем типы датасетов, размер изображений для обработыки и девайс."
      ]
    },
    {
      "cell_type": "code",
      "metadata": {
        "id": "NiJ762TI_07j"
      },
      "source": [
        "DATA_MODES = ['train', 'val', 'test']\n",
        "RESCALE_SIZE = 224\n",
        "DEVICE = torch.device(\"cuda\")"
      ],
      "execution_count": null,
      "outputs": []
    },
    {
      "cell_type": "markdown",
      "metadata": {
        "id": "23bvFdGA_07j"
      },
      "source": [
        "Используем дата враппер из ноутбука на колабе."
      ]
    },
    {
      "cell_type": "code",
      "metadata": {
        "id": "57jdCfIL_07j"
      },
      "source": [
        "class SimpsonsDataset(Dataset):\n",
        "    \"\"\"\n",
        "    Датасет с картинками, который паралельно подгружает их из папок\n",
        "    производит скалирование и превращение в торчевые тензоры\n",
        "    \"\"\"\n",
        "    def __init__(self, files, mode):\n",
        "        super().__init__()\n",
        "        # список файлов для загрузки\n",
        "        self.files = sorted(files)\n",
        "        # режим работы\n",
        "        self.mode = mode\n",
        "\n",
        "        if self.mode not in DATA_MODES:\n",
        "            print(f\"{self.mode} is not correct; correct modes: {DATA_MODES}\")\n",
        "            raise NameError\n",
        "\n",
        "        self.len_ = len(self.files)\n",
        "     \n",
        "        self.label_encoder = LabelEncoder()\n",
        "\n",
        "        if self.mode != 'test':\n",
        "            self.labels = [path.parent.name for path in self.files]\n",
        "            self.label_encoder.fit(self.labels)\n",
        "\n",
        "            with open('label_encoder.pkl', 'wb') as le_dump_file:\n",
        "                  pickle.dump(self.label_encoder, le_dump_file)\n",
        "                      \n",
        "    def __len__(self):\n",
        "        return self.len_\n",
        "      \n",
        "    def load_sample(self, file):\n",
        "        image = Image.open(file)\n",
        "        image.load()\n",
        "        return image\n",
        "  \n",
        "    def __getitem__(self, index):\n",
        "        # для преобразования изображений в тензоры PyTorch и нормализации входа\n",
        "        if self.mode != 'train':\n",
        "            transform = transforms.Compose([\n",
        "                transforms.ToTensor(),\n",
        "                transforms.Normalize([0.485, 0.456, 0.406], [0.229, 0.224, 0.225]) \n",
        "          ])\n",
        "        # если выборка для тренировки сети, проводим аугментацию\n",
        "        else:\n",
        "            transform = transforms.Compose([\n",
        "                transforms.ToPILImage(),\n",
        "                transforms.RandomChoice(\n",
        "                                  [transforms.ColorJitter(0.5, 0.5),\n",
        "                                  transforms.RandomPerspective(),\n",
        "                                  transforms.RandomGrayscale(),\n",
        "                                  transforms.RandomHorizontalFlip(),\n",
        "                                  transforms.RandomVerticalFlip(),\n",
        "                                  transforms.RandomRotation(180)]),\n",
        "            transforms.ToTensor(),\n",
        "            transforms.Normalize([0.485, 0.456, 0.406], [0.229, 0.224, 0.225]) \n",
        "          ])\n",
        "        x = self.load_sample(self.files[index])\n",
        "        x = self._prepare_sample(x)\n",
        "        x = transform(x)\n",
        "        if self.mode == 'test':\n",
        "            return x\n",
        "        else:\n",
        "            label = self.labels[index]\n",
        "            label_id = self.label_encoder.transform([label])\n",
        "            y = label_id.item()\n",
        "            return x, y\n",
        "        \n",
        "    def _prepare_sample(self, image):\n",
        "        image = image.resize((RESCALE_SIZE, RESCALE_SIZE))\n",
        "        return np.array(image)"
      ],
      "execution_count": null,
      "outputs": []
    },
    {
      "cell_type": "code",
      "metadata": {
        "id": "gT3m33oN_07j"
      },
      "source": [
        "def imshow(inp, title=None, plt_ax=plt, default=False):\n",
        "    \"\"\"Imshow для тензоров\"\"\"\n",
        "    inp = inp.numpy().transpose((1, 2, 0))\n",
        "    mean = np.array([0.485, 0.456, 0.406])\n",
        "    std = np.array([0.229, 0.224, 0.225])\n",
        "    inp = std * inp + mean\n",
        "    inp = np.clip(inp, 0, 1)\n",
        "    plt_ax.imshow(inp)\n",
        "    if title is not None:\n",
        "        plt_ax.set_title(title)\n",
        "    plt_ax.grid(False)"
      ],
      "execution_count": null,
      "outputs": []
    },
    {
      "cell_type": "markdown",
      "metadata": {
        "id": "qEldqTNF_07j"
      },
      "source": [
        "В данном шаге мы размножаем малочисленные классы (правда, неизвестно поможет нам это на тестовой выборке или же нет, поскольку скор который дает данный подход достигался мной и без данного шага, но с большим колличетсвом эпох)"
      ]
    },
    {
      "cell_type": "code",
      "metadata": {
        "id": "YNZ-C42l_07j",
        "outputId": "d2f0aec4-4cd2-4f25-82c6-760c09688fbd"
      },
      "source": [
        "import os\n",
        "import shutil\n",
        "\n",
        "TRAIN_DIR = Path('/kaggle/input/simpsons4/train/simpsons_dataset/')\n",
        "TEST_DIR = Path('/kaggle/input/simpsons4/testset/testset')\n",
        "\n",
        "shutil.copytree(TRAIN_DIR, '/kaggle/working/simpsons_dataset')\n",
        "TRAIN_DIR = Path('/kaggle/working/simpsons_dataset')\n",
        "\n",
        "folders = ([name for name in os.listdir(TRAIN_DIR) if os.path.isdir(os.path.join(TRAIN_DIR, name))])\n",
        "\n",
        "for folder in folders:\n",
        "    contents = os.listdir(os.path.join(TRAIN_DIR,folder))\n",
        "    while len(contents) < 500:\n",
        "        i = 1\n",
        "        for file in contents:\n",
        "            base, extension = os.path.splitext(file)\n",
        "            new_file = os.path.join(TRAIN_DIR,folder, base + str(i) + extension)\n",
        "            shutil.copy(os.path.join(TRAIN_DIR,folder, file), os.path.join(TRAIN_DIR,folder, new_file))\n",
        "        i += 1\n",
        "        contents = os.listdir(os.path.join(TRAIN_DIR,folder))\n",
        "        print(folder, len(contents))\n",
        "\n",
        "              \n",
        "train_val_files = sorted(list(TRAIN_DIR.rglob('*.jpg')))\n",
        "test_files = sorted(list(TEST_DIR.rglob('*.jpg')))"
      ],
      "execution_count": null,
      "outputs": [
        {
          "output_type": "stream",
          "text": [
            "cletus_spuckler 94\n",
            "cletus_spuckler 141\n",
            "cletus_spuckler 188\n",
            "cletus_spuckler 235\n",
            "cletus_spuckler 282\n",
            "cletus_spuckler 329\n",
            "cletus_spuckler 376\n",
            "cletus_spuckler 423\n",
            "cletus_spuckler 470\n",
            "cletus_spuckler 517\n",
            "patty_bouvier 144\n",
            "patty_bouvier 216\n",
            "patty_bouvier 288\n",
            "patty_bouvier 360\n",
            "patty_bouvier 432\n",
            "patty_bouvier 504\n",
            "kent_brockman 996\n",
            "gil 54\n",
            "gil 81\n",
            "gil 108\n",
            "gil 135\n",
            "gil 162\n",
            "gil 189\n",
            "gil 216\n",
            "gil 243\n",
            "gil 270\n",
            "gil 297\n",
            "gil 324\n",
            "gil 351\n",
            "gil 378\n",
            "gil 405\n",
            "gil 432\n",
            "gil 459\n",
            "gil 486\n",
            "gil 513\n",
            "martin_prince 142\n",
            "martin_prince 213\n",
            "martin_prince 284\n",
            "martin_prince 355\n",
            "martin_prince 426\n",
            "martin_prince 497\n",
            "martin_prince 568\n",
            "waylon_smithers 362\n",
            "waylon_smithers 543\n",
            "snake_jailbird 110\n",
            "snake_jailbird 165\n",
            "snake_jailbird 220\n",
            "snake_jailbird 275\n",
            "snake_jailbird 330\n",
            "snake_jailbird 385\n",
            "snake_jailbird 440\n",
            "snake_jailbird 495\n",
            "snake_jailbird 550\n",
            "professor_john_frink 130\n",
            "professor_john_frink 195\n",
            "professor_john_frink 260\n",
            "professor_john_frink 325\n",
            "professor_john_frink 390\n",
            "professor_john_frink 455\n",
            "professor_john_frink 520\n",
            "miss_hoover 34\n",
            "miss_hoover 51\n",
            "miss_hoover 68\n",
            "miss_hoover 85\n",
            "miss_hoover 102\n",
            "miss_hoover 119\n",
            "miss_hoover 136\n",
            "miss_hoover 153\n",
            "miss_hoover 170\n",
            "miss_hoover 187\n",
            "miss_hoover 204\n",
            "miss_hoover 221\n",
            "miss_hoover 238\n",
            "miss_hoover 255\n",
            "miss_hoover 272\n",
            "miss_hoover 289\n",
            "miss_hoover 306\n",
            "miss_hoover 323\n",
            "miss_hoover 340\n",
            "miss_hoover 357\n",
            "miss_hoover 374\n",
            "miss_hoover 391\n",
            "miss_hoover 408\n",
            "miss_hoover 425\n",
            "miss_hoover 442\n",
            "miss_hoover 459\n",
            "miss_hoover 476\n",
            "miss_hoover 493\n",
            "miss_hoover 510\n",
            "mayor_quimby 492\n",
            "mayor_quimby 738\n",
            "otto_mann 64\n",
            "otto_mann 96\n",
            "otto_mann 128\n",
            "otto_mann 160\n",
            "otto_mann 192\n",
            "otto_mann 224\n",
            "otto_mann 256\n",
            "otto_mann 288\n",
            "otto_mann 320\n",
            "otto_mann 352\n",
            "otto_mann 384\n",
            "otto_mann 416\n",
            "otto_mann 448\n",
            "otto_mann 480\n",
            "otto_mann 512\n",
            "disco_stu 16\n",
            "disco_stu 24\n",
            "disco_stu 32\n",
            "disco_stu 40\n",
            "disco_stu 48\n",
            "disco_stu 56\n",
            "disco_stu 64\n",
            "disco_stu 72\n",
            "disco_stu 80\n",
            "disco_stu 88\n",
            "disco_stu 96\n",
            "disco_stu 104\n",
            "disco_stu 112\n",
            "disco_stu 120\n",
            "disco_stu 128\n",
            "disco_stu 136\n",
            "disco_stu 144\n",
            "disco_stu 152\n",
            "disco_stu 160\n",
            "disco_stu 168\n",
            "disco_stu 176\n",
            "disco_stu 184\n",
            "disco_stu 192\n",
            "disco_stu 200\n",
            "disco_stu 208\n",
            "disco_stu 216\n",
            "disco_stu 224\n",
            "disco_stu 232\n",
            "disco_stu 240\n",
            "disco_stu 248\n",
            "disco_stu 256\n",
            "disco_stu 264\n",
            "disco_stu 272\n",
            "disco_stu 280\n",
            "disco_stu 288\n",
            "disco_stu 296\n",
            "disco_stu 304\n",
            "disco_stu 312\n",
            "disco_stu 320\n",
            "disco_stu 328\n",
            "disco_stu 336\n",
            "disco_stu 344\n",
            "disco_stu 352\n",
            "disco_stu 360\n",
            "disco_stu 368\n",
            "disco_stu 376\n",
            "disco_stu 384\n",
            "disco_stu 392\n",
            "disco_stu 400\n",
            "disco_stu 408\n",
            "disco_stu 416\n",
            "disco_stu 424\n",
            "disco_stu 432\n",
            "disco_stu 440\n",
            "disco_stu 448\n",
            "disco_stu 456\n",
            "disco_stu 464\n",
            "disco_stu 472\n",
            "disco_stu 480\n",
            "disco_stu 488\n",
            "disco_stu 496\n",
            "disco_stu 504\n",
            "selma_bouvier 206\n",
            "selma_bouvier 309\n",
            "selma_bouvier 412\n",
            "selma_bouvier 515\n",
            "maggie_simpson 256\n",
            "maggie_simpson 384\n",
            "maggie_simpson 512\n",
            "fat_tony 54\n",
            "fat_tony 81\n",
            "fat_tony 108\n",
            "fat_tony 135\n",
            "fat_tony 162\n",
            "fat_tony 189\n",
            "fat_tony 216\n",
            "fat_tony 243\n",
            "fat_tony 270\n",
            "fat_tony 297\n",
            "fat_tony 324\n",
            "fat_tony 351\n",
            "fat_tony 378\n",
            "fat_tony 405\n",
            "fat_tony 432\n",
            "fat_tony 459\n",
            "fat_tony 486\n",
            "fat_tony 513\n",
            "ralph_wiggum 178\n",
            "ralph_wiggum 267\n",
            "ralph_wiggum 356\n",
            "ralph_wiggum 445\n",
            "ralph_wiggum 534\n",
            "comic_book_guy 938\n",
            "agnes_skinner 84\n",
            "agnes_skinner 126\n",
            "agnes_skinner 168\n",
            "agnes_skinner 210\n",
            "agnes_skinner 252\n",
            "agnes_skinner 294\n",
            "agnes_skinner 336\n",
            "agnes_skinner 378\n",
            "agnes_skinner 420\n",
            "agnes_skinner 462\n",
            "agnes_skinner 504\n",
            "lionel_hutz 6\n",
            "lionel_hutz 9\n",
            "lionel_hutz 12\n",
            "lionel_hutz 15\n",
            "lionel_hutz 18\n",
            "lionel_hutz 21\n",
            "lionel_hutz 24\n",
            "lionel_hutz 27\n",
            "lionel_hutz 30\n",
            "lionel_hutz 33\n",
            "lionel_hutz 36\n",
            "lionel_hutz 39\n",
            "lionel_hutz 42\n",
            "lionel_hutz 45\n",
            "lionel_hutz 48\n",
            "lionel_hutz 51\n",
            "lionel_hutz 54\n",
            "lionel_hutz 57\n",
            "lionel_hutz 60\n",
            "lionel_hutz 63\n",
            "lionel_hutz 66\n",
            "lionel_hutz 69\n",
            "lionel_hutz 72\n",
            "lionel_hutz 75\n",
            "lionel_hutz 78\n",
            "lionel_hutz 81\n",
            "lionel_hutz 84\n",
            "lionel_hutz 87\n",
            "lionel_hutz 90\n",
            "lionel_hutz 93\n",
            "lionel_hutz 96\n",
            "lionel_hutz 99\n",
            "lionel_hutz 102\n",
            "lionel_hutz 105\n",
            "lionel_hutz 108\n",
            "lionel_hutz 111\n",
            "lionel_hutz 114\n",
            "lionel_hutz 117\n",
            "lionel_hutz 120\n",
            "lionel_hutz 123\n",
            "lionel_hutz 126\n",
            "lionel_hutz 129\n",
            "lionel_hutz 132\n",
            "lionel_hutz 135\n",
            "lionel_hutz 138\n",
            "lionel_hutz 141\n",
            "lionel_hutz 144\n",
            "lionel_hutz 147\n",
            "lionel_hutz 150\n",
            "lionel_hutz 153\n",
            "lionel_hutz 156\n",
            "lionel_hutz 159\n",
            "lionel_hutz 162\n",
            "lionel_hutz 165\n",
            "lionel_hutz 168\n",
            "lionel_hutz 171\n",
            "lionel_hutz 174\n",
            "lionel_hutz 177\n",
            "lionel_hutz 180\n",
            "lionel_hutz 183\n",
            "lionel_hutz 186\n",
            "lionel_hutz 189\n",
            "lionel_hutz 192\n",
            "lionel_hutz 195\n",
            "lionel_hutz 198\n",
            "lionel_hutz 201\n",
            "lionel_hutz 204\n",
            "lionel_hutz 207\n",
            "lionel_hutz 210\n",
            "lionel_hutz 213\n",
            "lionel_hutz 216\n",
            "lionel_hutz 219\n",
            "lionel_hutz 222\n",
            "lionel_hutz 225\n",
            "lionel_hutz 228\n",
            "lionel_hutz 231\n",
            "lionel_hutz 234\n",
            "lionel_hutz 237\n",
            "lionel_hutz 240\n",
            "lionel_hutz 243\n",
            "lionel_hutz 246\n",
            "lionel_hutz 249\n",
            "lionel_hutz 252\n",
            "lionel_hutz 255\n",
            "lionel_hutz 258\n",
            "lionel_hutz 261\n",
            "lionel_hutz 264\n",
            "lionel_hutz 267\n",
            "lionel_hutz 270\n",
            "lionel_hutz 273\n",
            "lionel_hutz 276\n",
            "lionel_hutz 279\n",
            "lionel_hutz 282\n",
            "lionel_hutz 285\n",
            "lionel_hutz 288\n",
            "lionel_hutz 291\n",
            "lionel_hutz 294\n",
            "lionel_hutz 297\n",
            "lionel_hutz 300\n",
            "lionel_hutz 303\n",
            "lionel_hutz 306\n",
            "lionel_hutz 309\n",
            "lionel_hutz 312\n",
            "lionel_hutz 315\n",
            "lionel_hutz 318\n",
            "lionel_hutz 321\n",
            "lionel_hutz 324\n",
            "lionel_hutz 327\n",
            "lionel_hutz 330\n",
            "lionel_hutz 333\n",
            "lionel_hutz 336\n",
            "lionel_hutz 339\n",
            "lionel_hutz 342\n",
            "lionel_hutz 345\n",
            "lionel_hutz 348\n",
            "lionel_hutz 351\n",
            "lionel_hutz 354\n",
            "lionel_hutz 357\n",
            "lionel_hutz 360\n",
            "lionel_hutz 363\n",
            "lionel_hutz 366\n",
            "lionel_hutz 369\n",
            "lionel_hutz 372\n",
            "lionel_hutz 375\n",
            "lionel_hutz 378\n",
            "lionel_hutz 381\n",
            "lionel_hutz 384\n",
            "lionel_hutz 387\n",
            "lionel_hutz 390\n",
            "lionel_hutz 393\n",
            "lionel_hutz 396\n",
            "lionel_hutz 399\n",
            "lionel_hutz 402\n",
            "lionel_hutz 405\n",
            "lionel_hutz 408\n",
            "lionel_hutz 411\n",
            "lionel_hutz 414\n",
            "lionel_hutz 417\n",
            "lionel_hutz 420\n",
            "lionel_hutz 423\n",
            "lionel_hutz 426\n",
            "lionel_hutz 429\n",
            "lionel_hutz 432\n",
            "lionel_hutz 435\n",
            "lionel_hutz 438\n",
            "lionel_hutz 441\n",
            "lionel_hutz 444\n",
            "lionel_hutz 447\n",
            "lionel_hutz 450\n",
            "lionel_hutz 453\n",
            "lionel_hutz 456\n",
            "lionel_hutz 459\n",
            "lionel_hutz 462\n",
            "lionel_hutz 465\n",
            "lionel_hutz 468\n",
            "lionel_hutz 471\n",
            "lionel_hutz 474\n",
            "lionel_hutz 477\n",
            "lionel_hutz 480\n",
            "lionel_hutz 483\n",
            "lionel_hutz 486\n",
            "lionel_hutz 489\n",
            "lionel_hutz 492\n",
            "lionel_hutz 495\n",
            "lionel_hutz 498\n",
            "lionel_hutz 501\n",
            "barney_gumble 212\n",
            "barney_gumble 318\n",
            "barney_gumble 424\n",
            "barney_gumble 530\n",
            "groundskeeper_willie 242\n",
            "groundskeeper_willie 363\n",
            "groundskeeper_willie 484\n",
            "groundskeeper_willie 605\n",
            "rainier_wolfcastle 90\n",
            "rainier_wolfcastle 135\n",
            "rainier_wolfcastle 180\n",
            "rainier_wolfcastle 225\n",
            "rainier_wolfcastle 270\n",
            "rainier_wolfcastle 315\n",
            "rainier_wolfcastle 360\n",
            "rainier_wolfcastle 405\n",
            "rainier_wolfcastle 450\n",
            "rainier_wolfcastle 495\n",
            "rainier_wolfcastle 540\n",
            "nelson_muntz 716\n",
            "sideshow_mel 80\n",
            "sideshow_mel 120\n",
            "sideshow_mel 160\n",
            "sideshow_mel 200\n",
            "sideshow_mel 240\n",
            "sideshow_mel 280\n",
            "sideshow_mel 320\n",
            "sideshow_mel 360\n",
            "sideshow_mel 400\n",
            "sideshow_mel 440\n",
            "sideshow_mel 480\n",
            "sideshow_mel 520\n",
            "lenny_leonard 620\n",
            "troy_mcclure 16\n",
            "troy_mcclure 24\n",
            "troy_mcclure 32\n",
            "troy_mcclure 40\n",
            "troy_mcclure 48\n",
            "troy_mcclure 56\n",
            "troy_mcclure 64\n",
            "troy_mcclure 72\n",
            "troy_mcclure 80\n",
            "troy_mcclure 88\n",
            "troy_mcclure 96\n",
            "troy_mcclure 104\n",
            "troy_mcclure 112\n",
            "troy_mcclure 120\n",
            "troy_mcclure 128\n",
            "troy_mcclure 136\n",
            "troy_mcclure 144\n",
            "troy_mcclure 152\n",
            "troy_mcclure 160\n",
            "troy_mcclure 168\n",
            "troy_mcclure 176\n",
            "troy_mcclure 184\n",
            "troy_mcclure 192\n",
            "troy_mcclure 200\n",
            "troy_mcclure 208\n",
            "troy_mcclure 216\n",
            "troy_mcclure 224\n",
            "troy_mcclure 232\n",
            "troy_mcclure 240\n",
            "troy_mcclure 248\n",
            "troy_mcclure 256\n",
            "troy_mcclure 264\n",
            "troy_mcclure 272\n",
            "troy_mcclure 280\n",
            "troy_mcclure 288\n",
            "troy_mcclure 296\n",
            "troy_mcclure 304\n",
            "troy_mcclure 312\n",
            "troy_mcclure 320\n",
            "troy_mcclure 328\n",
            "troy_mcclure 336\n",
            "troy_mcclure 344\n",
            "troy_mcclure 352\n",
            "troy_mcclure 360\n",
            "troy_mcclure 368\n",
            "troy_mcclure 376\n",
            "troy_mcclure 384\n",
            "troy_mcclure 392\n",
            "troy_mcclure 400\n",
            "troy_mcclure 408\n",
            "troy_mcclure 416\n",
            "troy_mcclure 424\n",
            "troy_mcclure 432\n",
            "troy_mcclure 440\n",
            "troy_mcclure 448\n",
            "troy_mcclure 456\n",
            "troy_mcclure 464\n",
            "troy_mcclure 472\n",
            "troy_mcclure 480\n",
            "troy_mcclure 488\n",
            "troy_mcclure 496\n",
            "troy_mcclure 504\n",
            "carl_carlson 196\n",
            "carl_carlson 294\n",
            "carl_carlson 392\n",
            "carl_carlson 490\n",
            "carl_carlson 588\n",
            "edna_krabappel 914\n"
          ],
          "name": "stdout"
        }
      ]
    },
    {
      "cell_type": "code",
      "metadata": {
        "id": "Y8W7gizl_07j"
      },
      "source": [
        "from sklearn.model_selection import train_test_split\n",
        "\n",
        "train_val_labels = [path.parent.name for path in train_val_files]\n",
        "train_files, val_files = train_test_split(train_val_files, test_size=0.25, \\\n",
        "                                          stratify=train_val_labels)"
      ],
      "execution_count": null,
      "outputs": []
    },
    {
      "cell_type": "code",
      "metadata": {
        "id": "DRtwDaNj_07k"
      },
      "source": [
        "val_dataset = SimpsonsDataset(val_files, mode='val')"
      ],
      "execution_count": null,
      "outputs": []
    },
    {
      "cell_type": "markdown",
      "metadata": {
        "id": "yEJdtZG2_07k"
      },
      "source": [
        "Просморт примеров из датасета (можно удалить данный шаг)"
      ]
    },
    {
      "cell_type": "code",
      "metadata": {
        "id": "d63HBRoT_07k",
        "outputId": "721708c8-c10a-47f3-ba3b-4f95bc705abd"
      },
      "source": [
        "fig, ax = plt.subplots(nrows=3, ncols=3,figsize=(8, 8), \\\n",
        "                        sharey=True, sharex=True)\n",
        "for fig_x in ax.flatten():\n",
        "    random_characters = int(np.random.uniform(0,1000))\n",
        "    im_val, label = val_dataset[random_characters]\n",
        "    img_label = \" \".join(map(lambda x: x.capitalize(),\\\n",
        "                val_dataset.label_encoder.inverse_transform([label])[0].split('_')))\n",
        "    imshow(im_val.data.cpu(), \\\n",
        "          title=img_label,plt_ax=fig_x)"
      ],
      "execution_count": null,
      "outputs": [
        {
          "output_type": "display_data",
          "data": {
            "image/png": "[encoded data removed]",
            "text/plain": [
              "<Figure size 576x576 with 9 Axes>"
            ]
          },
          "metadata": {
            "tags": [],
            "needs_background": "light"
          }
        }
      ]
    },
    {
      "cell_type": "markdown",
      "metadata": {
        "id": "bnCpJzbJ_07k"
      },
      "source": [
        "Функции для Train из колаба"
      ]
    },
    {
      "cell_type": "code",
      "metadata": {
        "id": "MhVwVF0-_07k"
      },
      "source": [
        "def fit_epoch(model, train_loader, criterion, optimizer):\n",
        "    running_loss = 0.0\n",
        "    running_corrects = 0\n",
        "    processed_data = 0\n",
        "  \n",
        "    for inputs, labels in train_loader:\n",
        "        inputs = inputs.to(DEVICE)\n",
        "        labels = labels.to(DEVICE)\n",
        "        optimizer.zero_grad()\n",
        "\n",
        "        outputs = model(inputs)\n",
        "        loss = criterion(outputs, labels)\n",
        "        loss.backward()\n",
        "        optimizer.step()\n",
        "        preds = torch.argmax(outputs, 1)\n",
        "        running_loss += loss.item() * inputs.size(0)\n",
        "        running_corrects += torch.sum(preds == labels.data)\n",
        "        processed_data += inputs.size(0)\n",
        "              \n",
        "    train_loss = running_loss / processed_data\n",
        "    train_acc = running_corrects.cpu().numpy() / processed_data\n",
        "    return train_loss, train_acc"
      ],
      "execution_count": null,
      "outputs": []
    },
    {
      "cell_type": "code",
      "metadata": {
        "id": "99bAo5Q9_07k"
      },
      "source": [
        "def eval_epoch(model, val_loader, criterion):\n",
        "    model.eval()\n",
        "    running_loss = 0.0\n",
        "    running_corrects = 0\n",
        "    processed_size = 0\n",
        "\n",
        "    for inputs, labels in val_loader:\n",
        "        inputs = inputs.to(DEVICE)\n",
        "        labels = labels.to(DEVICE)\n",
        "\n",
        "        with torch.set_grad_enabled(False):\n",
        "            outputs = model(inputs)\n",
        "            loss = criterion(outputs, labels)\n",
        "            preds = torch.argmax(outputs, 1)\n",
        "\n",
        "        running_loss += loss.item() * inputs.size(0)\n",
        "        running_corrects += torch.sum(preds == labels.data)\n",
        "        processed_size += inputs.size(0)\n",
        "    val_loss = running_loss / processed_size\n",
        "    val_acc = running_corrects.double() / processed_size\n",
        "    return val_loss, val_acc"
      ],
      "execution_count": null,
      "outputs": []
    },
    {
      "cell_type": "code",
      "metadata": {
        "id": "ZDzOE0gU_07k"
      },
      "source": [
        "def train(train_files, val_files, model, epochs, batch_size):\n",
        "    train_loader = DataLoader(train_dataset, batch_size=batch_size, shuffle=True)\n",
        "    val_loader = DataLoader(val_dataset, batch_size=batch_size, shuffle=False)\n",
        "\n",
        "    history = []\n",
        "    log_template = \"\\nEpoch {ep:03d} train_loss: {t_loss:0.4f} \\\n",
        "    val_loss {v_loss:0.4f} train_acc {t_acc:0.4f} val_acc {v_acc:0.4f}\"\n",
        "\n",
        "    with tqdm(desc=\"epoch\", total=epochs) as pbar_outer:\n",
        "        # заменяем исходный lr, добавляем scheduler\n",
        "        opt = torch.optim.Adam(model.parameters(), lr=0.0001)\n",
        "        scheduler = torch.optim.lr_scheduler.StepLR(opt, step_size = 14, gamma=0.1)\n",
        "        criterion = nn.CrossEntropyLoss()\n",
        "\n",
        "        for epoch in range(epochs):\n",
        "            train_loss, train_acc = fit_epoch(model, train_loader, criterion, opt)\n",
        "            scheduler.step()\n",
        "            print(\"loss\", train_loss)\n",
        "            \n",
        "            val_loss, val_acc = eval_epoch(model, val_loader, criterion)\n",
        "            history.append((train_loss, train_acc, val_loss, val_acc))\n",
        "            \n",
        "            pbar_outer.update(1)\n",
        "            tqdm.write(log_template.format(ep=epoch+1, t_loss=train_loss,\\\n",
        "                                           v_loss=val_loss, t_acc=train_acc, v_acc=val_acc))\n",
        "            \n",
        "    return history"
      ],
      "execution_count": null,
      "outputs": []
    },
    {
      "cell_type": "code",
      "metadata": {
        "id": "wuVr7kQq_07k"
      },
      "source": [
        "def predict(model, test_loader):\n",
        "    with torch.no_grad():\n",
        "        logits = []\n",
        "    \n",
        "        for inputs in test_loader:\n",
        "            inputs = inputs.to(DEVICE)\n",
        "            model.eval()\n",
        "            outputs = model(inputs).cpu()\n",
        "            logits.append(outputs)\n",
        "            \n",
        "    probs = nn.functional.softmax(torch.cat(logits), dim=-1).numpy()\n",
        "    return probs"
      ],
      "execution_count": null,
      "outputs": []
    },
    {
      "cell_type": "code",
      "metadata": {
        "id": "K46i57wk_07k",
        "outputId": "7025e82f-d48f-412e-ae44-153b8a91a161"
      },
      "source": [
        "n_classes = len(np.unique(train_val_labels))\n",
        "print(\"We will classify {} classes\".format(n_classes))"
      ],
      "execution_count": null,
      "outputs": [
        {
          "output_type": "stream",
          "text": [
            "We will classify 42 classes\n"
          ],
          "name": "stdout"
        }
      ]
    },
    {
      "cell_type": "markdown",
      "metadata": {
        "id": "gmSBesD5_07k"
      },
      "source": [
        "Определяем наши датасеты"
      ]
    },
    {
      "cell_type": "code",
      "metadata": {
        "id": "X8w_IfCk_07k"
      },
      "source": [
        "if val_dataset is None:\n",
        "    val_dataset = SimpsonsDataset(val_files, mode='val')\n",
        "    \n",
        "train_dataset = SimpsonsDataset(train_files, mode='train')"
      ],
      "execution_count": null,
      "outputs": []
    },
    {
      "cell_type": "markdown",
      "metadata": {
        "id": "-J3FBsm7_07k"
      },
      "source": [
        "**Исходную архитекуру мы заменяем на Transfer Learning**\n",
        "\n",
        "В данной случае используем Pretreined Resnet18, ничего не морозим"
      ]
    },
    {
      "cell_type": "code",
      "metadata": {
        "id": "nju8d0Co_07k",
        "outputId": "54b43fc2-6da4-4086-bd76-46dcdc187009"
      },
      "source": [
        "model = models.resnet34(pretrained=True)\n",
        "num_ftrs = model.fc.in_features\n",
        "model.fc = nn.Linear(num_ftrs, n_classes)\n",
        "model = model.to(DEVICE)"
      ],
      "execution_count": null,
      "outputs": [
        {
          "output_type": "stream",
          "text": [
            "Downloading: \"https://download.pytorch.org/models/resnet34-333f7ec4.pth\" to /root/.cache/torch/checkpoints/resnet34-333f7ec4.pth\n",
            "100%|██████████| 83.3M/83.3M [00:00<00:00, 109MB/s] \n"
          ],
          "name": "stderr"
        }
      ]
    },
    {
      "cell_type": "markdown",
      "metadata": {
        "id": "r6VQxU_j_07l"
      },
      "source": [
        "Запускаем обучение сети"
      ]
    },
    {
      "cell_type": "code",
      "metadata": {
        "id": "vswQpPBk_07l",
        "outputId": "b760ac96-4329-47ef-a9dd-3b0772f7abff"
      },
      "source": [
        "history = train(train_dataset, val_dataset, model=model, epochs=30, batch_size=32)"
      ],
      "execution_count": null,
      "outputs": [
        {
          "output_type": "stream",
          "text": [
            "epoch:   0%|          | 0/30 [00:00<?, ?it/s]"
          ],
          "name": "stderr"
        },
        {
          "output_type": "stream",
          "text": [
            "loss 0.704124656218801\n"
          ],
          "name": "stdout"
        },
        {
          "output_type": "stream",
          "text": [
            "epoch:   3%|▎         | 1/30 [04:26<2:08:48, 266.51s/it]"
          ],
          "name": "stderr"
        },
        {
          "output_type": "stream",
          "text": [
            "\n",
            "Epoch 001 train_loss: 0.7041     val_loss 0.1155 train_acc 0.8364 val_acc 0.9736\n",
            "loss 0.40940922175051475\n"
          ],
          "name": "stdout"
        },
        {
          "output_type": "stream",
          "text": [
            "epoch:   7%|▋         | 2/30 [08:49<2:03:56, 265.60s/it]"
          ],
          "name": "stderr"
        },
        {
          "output_type": "stream",
          "text": [
            "\n",
            "Epoch 002 train_loss: 0.4094     val_loss 0.1486 train_acc 0.8905 val_acc 0.9576\n",
            "loss 0.23467548754522027\n"
          ],
          "name": "stdout"
        },
        {
          "output_type": "stream",
          "text": [
            "epoch:  10%|█         | 3/30 [13:13<1:59:13, 264.96s/it]"
          ],
          "name": "stderr"
        },
        {
          "output_type": "stream",
          "text": [
            "\n",
            "Epoch 003 train_loss: 0.2347     val_loss 0.1168 train_acc 0.9352 val_acc 0.9707\n",
            "loss 0.18968212291706674\n"
          ],
          "name": "stdout"
        },
        {
          "output_type": "stream",
          "text": [
            "epoch:  13%|█▎        | 4/30 [17:36<1:54:36, 264.48s/it]"
          ],
          "name": "stderr"
        },
        {
          "output_type": "stream",
          "text": [
            "\n",
            "Epoch 004 train_loss: 0.1897     val_loss 0.1315 train_acc 0.9481 val_acc 0.9644\n",
            "loss 0.1701240980414096\n"
          ],
          "name": "stdout"
        },
        {
          "output_type": "stream",
          "text": [
            "epoch:  17%|█▋        | 5/30 [22:02<1:50:17, 264.72s/it]"
          ],
          "name": "stderr"
        },
        {
          "output_type": "stream",
          "text": [
            "\n",
            "Epoch 005 train_loss: 0.1701     val_loss 0.0878 train_acc 0.9540 val_acc 0.9785\n",
            "loss 0.1560895599511994\n"
          ],
          "name": "stdout"
        },
        {
          "output_type": "stream",
          "text": [
            "epoch:  20%|██        | 6/30 [26:28<1:46:02, 265.09s/it]"
          ],
          "name": "stderr"
        },
        {
          "output_type": "stream",
          "text": [
            "\n",
            "Epoch 006 train_loss: 0.1561     val_loss 0.0595 train_acc 0.9563 val_acc 0.9855\n",
            "loss 0.13146463366313105\n"
          ],
          "name": "stdout"
        },
        {
          "output_type": "stream",
          "text": [
            "epoch:  23%|██▎       | 7/30 [30:56<1:42:00, 266.10s/it]"
          ],
          "name": "stderr"
        },
        {
          "output_type": "stream",
          "text": [
            "\n",
            "Epoch 007 train_loss: 0.1315     val_loss 0.0853 train_acc 0.9635 val_acc 0.9787\n",
            "loss 0.12847763203835888\n"
          ],
          "name": "stdout"
        },
        {
          "output_type": "stream",
          "text": [
            "epoch:  27%|██▋       | 8/30 [35:21<1:37:26, 265.76s/it]"
          ],
          "name": "stderr"
        },
        {
          "output_type": "stream",
          "text": [
            "\n",
            "Epoch 008 train_loss: 0.1285     val_loss 0.1145 train_acc 0.9646 val_acc 0.9707\n",
            "loss 0.11339822874165698\n"
          ],
          "name": "stdout"
        },
        {
          "output_type": "stream",
          "text": [
            "epoch:  30%|███       | 9/30 [39:44<1:32:45, 265.04s/it]"
          ],
          "name": "stderr"
        },
        {
          "output_type": "stream",
          "text": [
            "\n",
            "Epoch 009 train_loss: 0.1134     val_loss 0.0806 train_acc 0.9687 val_acc 0.9815\n",
            "loss 0.11562163179485323\n"
          ],
          "name": "stdout"
        },
        {
          "output_type": "stream",
          "text": [
            "epoch:  33%|███▎      | 10/30 [44:07<1:28:04, 264.22s/it]"
          ],
          "name": "stderr"
        },
        {
          "output_type": "stream",
          "text": [
            "\n",
            "Epoch 010 train_loss: 0.1156     val_loss 0.1253 train_acc 0.9683 val_acc 0.9678\n",
            "loss 0.09829928908512406\n"
          ],
          "name": "stdout"
        },
        {
          "output_type": "stream",
          "text": [
            "epoch:  37%|███▋      | 11/30 [48:27<1:23:18, 263.08s/it]"
          ],
          "name": "stderr"
        },
        {
          "output_type": "stream",
          "text": [
            "\n",
            "Epoch 011 train_loss: 0.0983     val_loss 0.0533 train_acc 0.9742 val_acc 0.9886\n",
            "loss 0.09443671181868647\n"
          ],
          "name": "stdout"
        },
        {
          "output_type": "stream",
          "text": [
            "epoch:  40%|████      | 12/30 [52:47<1:18:39, 262.17s/it]"
          ],
          "name": "stderr"
        },
        {
          "output_type": "stream",
          "text": [
            "\n",
            "Epoch 012 train_loss: 0.0944     val_loss 0.0683 train_acc 0.9738 val_acc 0.9858\n",
            "loss 0.09901732695826314\n"
          ],
          "name": "stdout"
        },
        {
          "output_type": "stream",
          "text": [
            "epoch:  43%|████▎     | 13/30 [57:09<1:14:14, 262.04s/it]"
          ],
          "name": "stderr"
        },
        {
          "output_type": "stream",
          "text": [
            "\n",
            "Epoch 013 train_loss: 0.0990     val_loss 0.0783 train_acc 0.9734 val_acc 0.9819\n",
            "loss 0.09489479461237858\n"
          ],
          "name": "stdout"
        },
        {
          "output_type": "stream",
          "text": [
            "epoch:  47%|████▋     | 14/30 [1:01:32<1:09:56, 262.30s/it]"
          ],
          "name": "stderr"
        },
        {
          "output_type": "stream",
          "text": [
            "\n",
            "Epoch 014 train_loss: 0.0949     val_loss 0.0572 train_acc 0.9735 val_acc 0.9879\n",
            "loss 0.03398799495798027\n"
          ],
          "name": "stdout"
        },
        {
          "output_type": "stream",
          "text": [
            "epoch:  50%|█████     | 15/30 [1:05:53<1:05:30, 262.01s/it]"
          ],
          "name": "stderr"
        },
        {
          "output_type": "stream",
          "text": [
            "\n",
            "Epoch 015 train_loss: 0.0340     val_loss 0.0423 train_acc 0.9902 val_acc 0.9926\n",
            "loss 0.025370274005275792\n"
          ],
          "name": "stdout"
        },
        {
          "output_type": "stream",
          "text": [
            "epoch:  53%|█████▎    | 16/30 [1:10:15<1:01:06, 261.87s/it]"
          ],
          "name": "stderr"
        },
        {
          "output_type": "stream",
          "text": [
            "\n",
            "Epoch 016 train_loss: 0.0254     val_loss 0.0421 train_acc 0.9932 val_acc 0.9928\n",
            "loss 0.02160851578244485\n"
          ],
          "name": "stdout"
        },
        {
          "output_type": "stream",
          "text": [
            "epoch:  57%|█████▋    | 17/30 [1:14:36<56:41, 261.68s/it]"
          ],
          "name": "stderr"
        },
        {
          "output_type": "stream",
          "text": [
            "\n",
            "Epoch 017 train_loss: 0.0216     val_loss 0.0401 train_acc 0.9941 val_acc 0.9932\n",
            "loss 0.022448317634505333\n"
          ],
          "name": "stdout"
        },
        {
          "output_type": "stream",
          "text": [
            "epoch:  60%|██████    | 18/30 [1:18:57<52:16, 261.39s/it]"
          ],
          "name": "stderr"
        },
        {
          "output_type": "stream",
          "text": [
            "\n",
            "Epoch 018 train_loss: 0.0224     val_loss 0.0413 train_acc 0.9937 val_acc 0.9928\n",
            "loss 0.01797689616661301\n"
          ],
          "name": "stdout"
        },
        {
          "output_type": "stream",
          "text": [
            "epoch:  63%|██████▎   | 19/30 [1:23:19<47:57, 261.57s/it]"
          ],
          "name": "stderr"
        },
        {
          "output_type": "stream",
          "text": [
            "\n",
            "Epoch 019 train_loss: 0.0180     val_loss 0.0390 train_acc 0.9949 val_acc 0.9925\n",
            "loss 0.015500979543372947\n"
          ],
          "name": "stdout"
        },
        {
          "output_type": "stream",
          "text": [
            "epoch:  67%|██████▋   | 20/30 [1:27:41<43:38, 261.84s/it]"
          ],
          "name": "stderr"
        },
        {
          "output_type": "stream",
          "text": [
            "\n",
            "Epoch 020 train_loss: 0.0155     val_loss 0.0387 train_acc 0.9954 val_acc 0.9930\n",
            "loss 0.0159813592771712\n"
          ],
          "name": "stdout"
        },
        {
          "output_type": "stream",
          "text": [
            "epoch:  70%|███████   | 21/30 [1:32:06<39:24, 262.69s/it]"
          ],
          "name": "stderr"
        },
        {
          "output_type": "stream",
          "text": [
            "\n",
            "Epoch 021 train_loss: 0.0160     val_loss 0.0388 train_acc 0.9956 val_acc 0.9932\n",
            "loss 0.01747548639529346\n"
          ],
          "name": "stdout"
        },
        {
          "output_type": "stream",
          "text": [
            "epoch:  73%|███████▎  | 22/30 [1:36:28<34:59, 262.47s/it]"
          ],
          "name": "stderr"
        },
        {
          "output_type": "stream",
          "text": [
            "\n",
            "Epoch 022 train_loss: 0.0175     val_loss 0.0390 train_acc 0.9950 val_acc 0.9935\n",
            "loss 0.01384090579185815\n"
          ],
          "name": "stdout"
        },
        {
          "output_type": "stream",
          "text": [
            "epoch:  77%|███████▋  | 23/30 [1:40:50<30:36, 262.37s/it]"
          ],
          "name": "stderr"
        },
        {
          "output_type": "stream",
          "text": [
            "\n",
            "Epoch 023 train_loss: 0.0138     val_loss 0.0390 train_acc 0.9958 val_acc 0.9943\n",
            "loss 0.01197089414569245\n"
          ],
          "name": "stdout"
        },
        {
          "output_type": "stream",
          "text": [
            "epoch:  80%|████████  | 24/30 [1:45:13<26:15, 262.53s/it]"
          ],
          "name": "stderr"
        },
        {
          "output_type": "stream",
          "text": [
            "\n",
            "Epoch 024 train_loss: 0.0120     val_loss 0.0428 train_acc 0.9965 val_acc 0.9926\n",
            "loss 0.011271654165058409\n"
          ],
          "name": "stdout"
        },
        {
          "output_type": "stream",
          "text": [
            "epoch:  83%|████████▎ | 25/30 [1:49:35<21:51, 262.38s/it]"
          ],
          "name": "stderr"
        },
        {
          "output_type": "stream",
          "text": [
            "\n",
            "Epoch 025 train_loss: 0.0113     val_loss 0.0428 train_acc 0.9970 val_acc 0.9936\n",
            "loss 0.013352374713326128\n"
          ],
          "name": "stdout"
        },
        {
          "output_type": "stream",
          "text": [
            "epoch:  87%|████████▋ | 26/30 [1:53:56<17:28, 262.16s/it]"
          ],
          "name": "stderr"
        },
        {
          "output_type": "stream",
          "text": [
            "\n",
            "Epoch 026 train_loss: 0.0134     val_loss 0.0376 train_acc 0.9961 val_acc 0.9935\n",
            "loss 0.012226595028339891\n"
          ],
          "name": "stdout"
        },
        {
          "output_type": "stream",
          "text": [
            "epoch:  90%|█████████ | 27/30 [1:58:21<13:09, 263.01s/it]"
          ],
          "name": "stderr"
        },
        {
          "output_type": "stream",
          "text": [
            "\n",
            "Epoch 027 train_loss: 0.0122     val_loss 0.0389 train_acc 0.9965 val_acc 0.9935\n",
            "loss 0.012088386121980665\n"
          ],
          "name": "stdout"
        },
        {
          "output_type": "stream",
          "text": [
            "epoch:  93%|█████████▎| 28/30 [2:02:46<08:47, 263.61s/it]"
          ],
          "name": "stderr"
        },
        {
          "output_type": "stream",
          "text": [
            "\n",
            "Epoch 028 train_loss: 0.0121     val_loss 0.0399 train_acc 0.9966 val_acc 0.9944\n",
            "loss 0.00982829822869833\n"
          ],
          "name": "stdout"
        },
        {
          "output_type": "stream",
          "text": [
            "epoch:  97%|█████████▋| 29/30 [2:07:10<04:23, 263.60s/it]"
          ],
          "name": "stderr"
        },
        {
          "output_type": "stream",
          "text": [
            "\n",
            "Epoch 029 train_loss: 0.0098     val_loss 0.0398 train_acc 0.9975 val_acc 0.9943\n",
            "loss 0.009343024855582653\n"
          ],
          "name": "stdout"
        },
        {
          "output_type": "stream",
          "text": [
            "epoch: 100%|██████████| 30/30 [2:11:34<00:00, 263.14s/it]"
          ],
          "name": "stderr"
        },
        {
          "output_type": "stream",
          "text": [
            "\n",
            "Epoch 030 train_loss: 0.0093     val_loss 0.0399 train_acc 0.9974 val_acc 0.9943\n"
          ],
          "name": "stdout"
        },
        {
          "output_type": "stream",
          "text": [
            "\n"
          ],
          "name": "stderr"
        }
      ]
    },
    {
      "cell_type": "markdown",
      "metadata": {
        "id": "v_HICps9_07l"
      },
      "source": [
        "Строим кривые обучения"
      ]
    },
    {
      "cell_type": "code",
      "metadata": {
        "id": "XfKViGmF_07l"
      },
      "source": [
        "loss, acc, val_loss, val_acc = zip(*history)"
      ],
      "execution_count": null,
      "outputs": []
    },
    {
      "cell_type": "code",
      "metadata": {
        "id": "G8PmIzrY_07l",
        "outputId": "9bc6db51-4be7-456b-ba4b-615bcc0aa090"
      },
      "source": [
        "plt.figure(figsize=(15, 9))\n",
        "plt.plot(loss, label=\"train_loss\")\n",
        "plt.plot(val_loss, label=\"val_loss\")\n",
        "plt.legend(loc='best')\n",
        "plt.xlabel(\"epochs\")\n",
        "plt.ylabel(\"loss\")\n",
        "plt.show()"
      ],
      "execution_count": null,
      "outputs": [
        {
          "output_type": "display_data",
          "data": {
            "image/png": "[encoded data removed]",
            "text/plain": [
              "<Figure size 1080x648 with 1 Axes>"
            ]
          },
          "metadata": {
            "tags": [],
            "needs_background": "light"
          }
        }
      ]
    },
    {
      "cell_type": "markdown",
      "metadata": {
        "id": "mFornQE7_07l"
      },
      "source": [
        "Вычисляем целевыую метрику на валидационной выборке"
      ]
    },
    {
      "cell_type": "code",
      "metadata": {
        "id": "1I-wvcsH_07l"
      },
      "source": [
        "idxs = list(map(int, np.random.uniform(0,1000, 50)))\n",
        "imgs = [val_dataset[id][0].unsqueeze(0) for id in idxs]\n",
        "\n",
        "probs_ims = predict(model, imgs)"
      ],
      "execution_count": null,
      "outputs": []
    },
    {
      "cell_type": "code",
      "metadata": {
        "id": "nnrLZT0H_07l"
      },
      "source": [
        "label_encoder = pickle.load(open(\"label_encoder.pkl\", 'rb'))"
      ],
      "execution_count": null,
      "outputs": []
    },
    {
      "cell_type": "code",
      "metadata": {
        "id": "cPuiXzU2_07l"
      },
      "source": [
        "y_pred = np.argmax(probs_ims,-1)\n",
        "\n",
        "actual_labels = [val_dataset[id][1] for id in idxs]\n",
        "\n",
        "preds_class = [i for i in y_pred]"
      ],
      "execution_count": null,
      "outputs": []
    },
    {
      "cell_type": "code",
      "metadata": {
        "id": "wjvaRXHp_07l",
        "outputId": "1ccc2b81-b79d-4279-b093-2872ea269cda"
      },
      "source": [
        "from sklearn.metrics import f1_score\n",
        "\n",
        "f1_score(actual_labels, preds_class, average='macro')\n"
      ],
      "execution_count": null,
      "outputs": [
        {
          "output_type": "execute_result",
          "data": {
            "text/plain": [
              "1.0"
            ]
          },
          "metadata": {
            "tags": []
          },
          "execution_count": 23
        }
      ]
    },
    {
      "cell_type": "markdown",
      "metadata": {
        "id": "8Xdj41Du_07l"
      },
      "source": [
        "Наш Submit"
      ]
    },
    {
      "cell_type": "code",
      "metadata": {
        "id": "G9OFLZig_07l"
      },
      "source": [
        "test_dataset = SimpsonsDataset(test_files, mode=\"test\")\n",
        "test_loader = DataLoader(test_dataset, shuffle=False, batch_size=32)\n",
        "probs = predict(model, test_loader)\n",
        "\n",
        "\n",
        "preds = label_encoder.inverse_transform(np.argmax(probs, axis=1))\n",
        "test_filenames = [path.name for path in test_dataset.files]"
      ],
      "execution_count": null,
      "outputs": []
    },
    {
      "cell_type": "code",
      "metadata": {
        "id": "aHysZW28_07l",
        "outputId": "84ea8b12-4004-4c0a-9aea-fc6b069d3fcb"
      },
      "source": [
        "submit = pd.DataFrame({'Id': test_filenames, 'Expected': preds})\n",
        "submit.head()"
      ],
      "execution_count": null,
      "outputs": [
        {
          "output_type": "execute_result",
          "data": {
            "text/html": [
              "<div>\n",
              "<style scoped>\n",
              "    .dataframe tbody tr th:only-of-type {\n",
              "        vertical-align: middle;\n",
              "    }\n",
              "\n",
              "    .dataframe tbody tr th {\n",
              "        vertical-align: top;\n",
              "    }\n",
              "\n",
              "    .dataframe thead th {\n",
              "        text-align: right;\n",
              "    }\n",
              "</style>\n",
              "<table border=\"1\" class=\"dataframe\">\n",
              "  <thead>\n",
              "    <tr style=\"text-align: right;\">\n",
              "      <th></th>\n",
              "      <th>Id</th>\n",
              "      <th>Expected</th>\n",
              "    </tr>\n",
              "  </thead>\n",
              "  <tbody>\n",
              "    <tr>\n",
              "      <th>0</th>\n",
              "      <td>img0.jpg</td>\n",
              "      <td>nelson_muntz</td>\n",
              "    </tr>\n",
              "    <tr>\n",
              "      <th>1</th>\n",
              "      <td>img1.jpg</td>\n",
              "      <td>bart_simpson</td>\n",
              "    </tr>\n",
              "    <tr>\n",
              "      <th>2</th>\n",
              "      <td>img10.jpg</td>\n",
              "      <td>ned_flanders</td>\n",
              "    </tr>\n",
              "    <tr>\n",
              "      <th>3</th>\n",
              "      <td>img100.jpg</td>\n",
              "      <td>chief_wiggum</td>\n",
              "    </tr>\n",
              "    <tr>\n",
              "      <th>4</th>\n",
              "      <td>img101.jpg</td>\n",
              "      <td>apu_nahasapeemapetilon</td>\n",
              "    </tr>\n",
              "  </tbody>\n",
              "</table>\n",
              "</div>"
            ],
            "text/plain": [
              "           Id                Expected\n",
              "0    img0.jpg            nelson_muntz\n",
              "1    img1.jpg            bart_simpson\n",
              "2   img10.jpg            ned_flanders\n",
              "3  img100.jpg            chief_wiggum\n",
              "4  img101.jpg  apu_nahasapeemapetilon"
            ]
          },
          "metadata": {
            "tags": []
          },
          "execution_count": 25
        }
      ]
    },
    {
      "cell_type": "code",
      "metadata": {
        "id": "VlqyuJ9x_07l"
      },
      "source": [
        "submit.to_csv('submission.csv', index=False)"
      ],
      "execution_count": null,
      "outputs": []
    },
    {
      "cell_type": "markdown",
      "metadata": {
        "id": "dsxUPiK-AIu5"
      },
      "source": [
        "Итого: F1 - 0.99681\n",
        "\n"
      ]
    },
    {
      "cell_type": "code",
      "metadata": {
        "id": "lb0vzT-cAIQs"
      },
      "source": [
        ""
      ],
      "execution_count": null,
      "outputs": []
    }
  ]
}